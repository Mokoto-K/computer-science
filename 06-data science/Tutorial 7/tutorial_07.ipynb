{
 "cells": [
  {
   "cell_type": "markdown",
   "metadata": {},
   "source": [
    "# Tutorial  07\n",
    "\n",
    "In this tutorial we will be working with a random forest ensemble classifier. You will be:\n",
    "\n",
    "* Training a random forest classifier on the 'wine' dataset.\n",
    "* Optimise the number of weak-learners in the ensemble.\n",
    "* Analyse the feature importance indicated by the random foest algorithm.\n",
    "\n",
    "First we will import the data and train a single ensemble: "
   ]
  },
  {
   "cell_type": "code",
   "execution_count": 2,
   "metadata": {},
   "outputs": [
    {
     "ename": "SyntaxError",
     "evalue": "invalid syntax (<ipython-input-2-7ad346db8985>, line 15)",
     "output_type": "error",
     "traceback": [
      "\u001b[1;36m  File \u001b[1;32m\"<ipython-input-2-7ad346db8985>\"\u001b[1;36m, line \u001b[1;32m15\u001b[0m\n\u001b[1;33m    rf_clf = #\u001b[0m\n\u001b[1;37m              ^\u001b[0m\n\u001b[1;31mSyntaxError\u001b[0m\u001b[1;31m:\u001b[0m invalid syntax\n"
     ]
    }
   ],
   "source": [
    "from sklearn.model_selection import cross_val_score\n",
    "from sklearn.datasets import load_wine\n",
    "from sklearn.ensemble import (RandomForestClassifier,AdaBoostClassifier)\n",
    "import matplotlib.pyplot as plt\n",
    "import numpy as np\n",
    "from statistics import mean\n",
    "\n",
    "# import some data to play with - the iris dataset\n",
    "wine_data = load_wine()\n",
    "X = wine_data.data\n",
    "y = wine_data.target\n",
    "\n",
    "#Here is where you come in - create the classifier\n",
    "\n",
    "rf_clf = #\n",
    "rf_scores = #\n",
    "\n",
    "print(mean(rf_scores))\n"
   ]
  },
  {
   "cell_type": "markdown",
   "metadata": {},
   "source": [
    "## Tasks for you\n",
    "Update the code above so that a random forest classifier with 10 weak learners is trained and the cross validation scores are calculated using the X, y data.\n",
    "\n",
    "Now we can move through and optimise the number of estimators needed to acheive the best results on the wine dataset. We will also construct a figure that contains a plot of the mean scores for each number of weak-learners tested. Here is the starter code:"
   ]
  },
  {
   "cell_type": "code",
   "execution_count": null,
   "metadata": {},
   "outputs": [],
   "source": [
    "\n",
    "cros_val_scores = [];\n",
    "best_score = 0;\n",
    "best_learners = 1\n",
    "\n",
    "for weak_learners in range(1,100):\n",
    "\n",
    "    rf_clf = #Here we construct a random forest with weak_learners estimators\n",
    "    rf_scores = #Here we complete cross validation using the classifer we have created\n",
    "    cros_val_scores.append( #Here we append the mean of the rf_scores to the cros_val_scores list\n",
    "    #This code keeps track of the highest scoring configuration\n",
    "    if mean(rf_scores) > best_score:\n",
    "        best_score = mean(rf_scores)\n",
    "        best_learners = weak_learners"
   ]
  },
  {
   "cell_type": "markdown",
   "metadata": {},
   "source": [
    "## Tasks for you\n",
    "\n",
    "Update the code above so that it completes the following:\n",
    "1. Constructs a random forest classifier for each test number of estimators\n",
    "2. Calculates and stores the cross validation scores.\n",
    "3. Keeps track of the best configuration.\n",
    "4. Constructs a plot of the cross validation scores.\n",
    "\n",
    "Once we know the best configuation (i.e. we have optimised the number of weak-learners), we can investigate the feature importance:"
   ]
  },
  {
   "cell_type": "code",
   "execution_count": null,
   "metadata": {},
   "outputs": [],
   "source": [
    "# Construct a random forest using the best configuration\n",
    "rf_clf = RandomForestClassifier(n_estimators=best_learners)\n",
    "# Fit the classifier to the data\n",
    "rf_clf.fit(X, y)\n",
    "importances = # Here you need to extract the feature importances from the classifer."
   ]
  },
  {
   "cell_type": "markdown",
   "metadata": {},
   "source": [
    "## Tasks for you\n",
    "\n",
    "Modify the code above so that it constructs a bar chart displaying the feature importances.You should label the bars using the `feature_names` field within the  `wine_data` object.\n"
   ]
  },
  {
   "cell_type": "markdown",
   "metadata": {},
   "source": [
    "## Assignment 3\n",
    "\n",
    "Use the remaining time in this tutorial to work on your group assignment.\n"
   ]
  },
  {
   "cell_type": "code",
   "execution_count": null,
   "metadata": {},
   "outputs": [],
   "source": []
  }
 ],
 "metadata": {
  "kernelspec": {
   "display_name": "Python 3",
   "language": "python",
   "name": "python3"
  },
  "language_info": {
   "codemirror_mode": {
    "name": "ipython",
    "version": 3
   },
   "file_extension": ".py",
   "mimetype": "text/x-python",
   "name": "python",
   "nbconvert_exporter": "python",
   "pygments_lexer": "ipython3",
   "version": "3.7.6"
  }
 },
 "nbformat": 4,
 "nbformat_minor": 4
}
