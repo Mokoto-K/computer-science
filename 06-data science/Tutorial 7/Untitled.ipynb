{
 "cells": [
  {
   "cell_type": "markdown",
   "metadata": {},
   "source": [
    "# Tutorial  07\n",
    "\n",
    "In this tutorial we will be working with a random forest ensemble classifier. You will be:\n",
    "\n",
    "* Training a random forest classifier on the 'wine' dataset.\n",
    "* Optimise the number of weak-learners in the ensemble.\n",
    "* Analyse the feature importance indicated by the random foest algorithm.\n",
    "\n",
    "First we will import the data and train a single ensemble: "
   ]
  },
  {
   "cell_type": "code",
   "execution_count": 1,
   "metadata": {},
   "outputs": [
    {
     "name": "stdout",
     "output_type": "stream",
     "text": [
      "0.9217514124293785\n"
     ]
    }
   ],
   "source": [
    "from sklearn.model_selection import cross_val_score\n",
    "from sklearn.datasets import load_wine\n",
    "from sklearn.ensemble import (RandomForestClassifier,AdaBoostClassifier)\n",
    "import matplotlib.pyplot as plt\n",
    "import numpy as np\n",
    "from statistics import mean\n",
    "\n",
    "# import some data to play with - the iris dataset\n",
    "wine_data = load_wine()\n",
    "X = wine_data.data\n",
    "y = wine_data.target\n",
    "\n",
    "rf_clf = RandomForestClassifier(n_estimators=10)\n",
    "rf_scores = cross_val_score(rf_clf, X, y, cv=3)\n",
    "\n",
    "print(mean(rf_scores))\n"
   ]
  },
  {
   "cell_type": "code",
   "execution_count": null,
   "metadata": {},
   "outputs": [],
   "source": []
  }
 ],
 "metadata": {
  "kernelspec": {
   "display_name": "Python 3",
   "language": "python",
   "name": "python3"
  },
  "language_info": {
   "codemirror_mode": {
    "name": "ipython",
    "version": 3
   },
   "file_extension": ".py",
   "mimetype": "text/x-python",
   "name": "python",
   "nbconvert_exporter": "python",
   "pygments_lexer": "ipython3",
   "version": "3.7.6"
  }
 },
 "nbformat": 4,
 "nbformat_minor": 4
}
