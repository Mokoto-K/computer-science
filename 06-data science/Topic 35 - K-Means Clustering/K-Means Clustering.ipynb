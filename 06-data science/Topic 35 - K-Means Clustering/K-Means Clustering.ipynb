{
 "cells": [
  {
   "cell_type": "markdown",
   "metadata": {},
   "source": [
    "## K Means Clustering\n",
    "* K-means clustering is an unsupervised algorithm, which means that it makes inferences based on input data, without the need for predefined output labels.\n",
    "* K-means clustering functions by grouping similar data points together, into clusters, which may reveal patterns. \n",
    "* A predefined number of clusters must be provided (k). K-means clustering looks for k clusters in the dataset.\n",
    "* A cluster is a group of data points aggregated based on similarities, e.g. if 2 sentences contain the word 'great' they may be grouped together.\n",
    "* The predefined number of clusters (k) lets the algorithm know how many centroids are required. \n",
    "* A centroid represents the center of a cluster. It may be real of imaginary. K-means clustering allocates every data point to the nearest cluster.\n",
    "* K-means clustering initially uses a group of randomly selected centroids.\n",
    "* Iterative calculations are then used to optimise the positions of the centroids\n",
    "* K-means clustering is not intelligent. It simply looks for patterns in data to develop clusters."
   ]
  },
  {
   "cell_type": "markdown",
   "metadata": {},
   "source": [
    "### Dummy Example"
   ]
  },
  {
   "cell_type": "code",
   "execution_count": 1,
   "metadata": {},
   "outputs": [],
   "source": [
    "import numpy as np\n",
    "import matplotlib.pyplot as plt\n",
    "from matplotlib import style\n",
    "style.use(\"ggplot\")\n",
    "from sklearn.cluster import KMeans"
   ]
  },
  {
   "cell_type": "code",
   "execution_count": 2,
   "metadata": {},
   "outputs": [],
   "source": [
    "#dummy dataset, x and y coordinates\n",
    "x=[1.5,7,2,10,0.5,9.5,3]\n",
    "y=[3,7,1.7,9,0.3,10,1]"
   ]
  },
  {
   "cell_type": "markdown",
   "metadata": {},
   "source": [
    "Let's visualise this in a scatter plot. We can see that we have 2 clusters."
   ]
  },
  {
   "cell_type": "code",
   "execution_count": 3,
   "metadata": {},
   "outputs": [
    {
     "data": {
      "text/plain": [
       "<matplotlib.collections.PathCollection at 0x19f58f935f8>"
      ]
     },
     "execution_count": 3,
     "metadata": {},
     "output_type": "execute_result"
    },
    {
     "data": {
      "image/png": "[encoded data removed]",
      "text/plain": [
       "<Figure size 432x288 with 1 Axes>"
      ]
     },
     "metadata": {
      "needs_background": "light"
     },
     "output_type": "display_data"
    }
   ],
   "source": [
    "plt.scatter(x,y)"
   ]
  },
  {
   "cell_type": "markdown",
   "metadata": {},
   "source": [
    "Let's train a k-means clustering model..."
   ]
  },
  {
   "cell_type": "code",
   "execution_count": 4,
   "metadata": {},
   "outputs": [
    {
     "data": {
      "text/plain": [
       "KMeans(algorithm='auto', copy_x=True, init='k-means++', max_iter=300,\n",
       "    n_clusters=2, n_init=10, n_jobs=None, precompute_distances='auto',\n",
       "    random_state=None, tol=0.0001, verbose=0)"
      ]
     },
     "execution_count": 4,
     "metadata": {},
     "output_type": "execute_result"
    }
   ],
   "source": [
    "array = np.array([[1.5,3],[7,7],[2,1.7],[10,9],[0.5,0.3],[9.5,10],[3,1]])\n",
    "kmeans = KMeans(n_clusters=2)\n",
    "kmeans.fit(array)"
   ]
  },
  {
   "cell_type": "markdown",
   "metadata": {},
   "source": [
    "#### Centroids and Labels\n",
    "Here are the centroids, in x, y format, as well as the classification of each point"
   ]
  },
  {
   "cell_type": "code",
   "execution_count": 5,
   "metadata": {},
   "outputs": [
    {
     "name": "stdout",
     "output_type": "stream",
     "text": [
      "Centroid 1:  [8.83333333 8.66666667] \n",
      "Centroid 2: [1.75 1.5 ]\n",
      "\n",
      "Labels:  [1 0 1 0 1 0 1]\n"
     ]
    }
   ],
   "source": [
    "centroids = kmeans.cluster_centers_\n",
    "labels = kmeans.labels_\n",
    "\n",
    "print(\"Centroid 1: \",centroids[0],\"\\nCentroid 2:\",centroids[1])\n",
    "print(\"\\nLabels: \",labels)"
   ]
  },
  {
   "cell_type": "markdown",
   "metadata": {},
   "source": [
    "#### Visualisation\n",
    "The x on the graphs denotes the centroids (centroid 1 is bottom left, centroid 2 is top right)"
   ]
  },
  {
   "cell_type": "code",
   "execution_count": 6,
   "metadata": {},
   "outputs": [
    {
     "name": "stdout",
     "output_type": "stream",
     "text": [
      "Coordinate:  [1.5 3. ]  label:  1\n",
      "Coordinate:  [7. 7.]  label:  0\n",
      "Coordinate:  [2.  1.7]  label:  1\n",
      "Coordinate:  [10.  9.]  label:  0\n",
      "Coordinate:  [0.5 0.3]  label:  1\n",
      "Coordinate:  [ 9.5 10. ]  label:  0\n",
      "Coordinate:  [3. 1.]  label:  1\n"
     ]
    },
    {
     "data": {
      "image/png": "[encoded data removed]",
      "text/plain": [
       "<Figure size 432x288 with 1 Axes>"
      ]
     },
     "metadata": {
      "needs_background": "light"
     },
     "output_type": "display_data"
    }
   ],
   "source": [
    "colors = [\"g.\",\"r.\"]\n",
    "\n",
    "for i in range(len(x)):\n",
    "    print(\"Coordinate: \", array[i], \" label: \", labels[i])\n",
    "    plt.plot(array[i][0],array[i][1],colors[labels[i]], markersize=10)\n",
    "plt.scatter(centroids[:,0],centroids[:,1], marker=\"x\",s=150,linewidth=5,zorder=10)\n",
    "plt.show()\n",
    "\n"
   ]
  },
  {
   "cell_type": "markdown",
   "metadata": {},
   "source": [
    "### A Real Life Example: Sentence Classification"
   ]
  },
  {
   "cell_type": "code",
   "execution_count": 116,
   "metadata": {},
   "outputs": [],
   "source": [
    "import collections\n",
    "import nltk\n",
    "from nltk import word_tokenize\n",
    "from nltk.corpus import stopwords\n",
    "from nltk.stem import PorterStemmer\n",
    "from sklearn.cluster import KMeans\n",
    "from sklearn.feature_extraction.text import TfidfVectorizer\n",
    "import pandas as pd"
   ]
  },
  {
   "cell_type": "code",
   "execution_count": 117,
   "metadata": {},
   "outputs": [],
   "source": [
    "#function to tokenize text\n",
    "def tokenizer(text):\n",
    "    tokens = word_tokenize(text)\n",
    "    stemmer = PorterStemmer() \n",
    "    tokens = [stemmer.stem(t) for t in tokens if t not in stopwords.words('english')]\n",
    "    return tokens"
   ]
  },
  {
   "cell_type": "code",
   "execution_count": 118,
   "metadata": {},
   "outputs": [],
   "source": [
    "#function to use k-means clustering to create sentence clusters based on predefined number of clusters\n",
    "def cluster_sentences(sentences, nb_of_clusters): \n",
    "    #uses stopwords to filter out common words\n",
    "    tfidf_vectorizer = TfidfVectorizer(tokenizer=tokenizer, stop_words=stopwords.words('english'),lowercase=True)\n",
    "    tfidf_matrix = tfidf_vectorizer.fit_transform(sentences)\n",
    "    kmeans = KMeans(n_clusters=nb_of_clusters)\n",
    "    kmeans.fit(tfidf_matrix)\n",
    "    clusters = collections.defaultdict(list)\n",
    "    for i, label in enumerate(kmeans.labels_):\n",
    "        clusters[label].append(i)\n",
    "    return dict(clusters)"
   ]
  },
  {
   "cell_type": "markdown",
   "metadata": {},
   "source": [
    "Load our Amazon Fine Foods Reviews dataset. You can find it here: https://www.kaggle.com/snap/amazon-fine-food-reviews "
   ]
  },
  {
   "cell_type": "code",
   "execution_count": 119,
   "metadata": {},
   "outputs": [],
   "source": [
    "data = pd.read_csv(\"./dataset/Reviews.csv\")"
   ]
  },
  {
   "cell_type": "code",
   "execution_count": 120,
   "metadata": {},
   "outputs": [
    {
     "data": {
      "text/html": [
       "<div>\n",
       "<style scoped>\n",
       "    .dataframe tbody tr th:only-of-type {\n",
       "        vertical-align: middle;\n",
       "    }\n",
       "\n",
       "    .dataframe tbody tr th {\n",
       "        vertical-align: top;\n",
       "    }\n",
       "\n",
       "    .dataframe thead th {\n",
       "        text-align: right;\n",
       "    }\n",
       "</style>\n",
       "<table border=\"1\" class=\"dataframe\">\n",
       "  <thead>\n",
       "    <tr style=\"text-align: right;\">\n",
       "      <th></th>\n",
       "      <th>Id</th>\n",
       "      <th>ProductId</th>\n",
       "      <th>UserId</th>\n",
       "      <th>ProfileName</th>\n",
       "      <th>HelpfulnessNumerator</th>\n",
       "      <th>HelpfulnessDenominator</th>\n",
       "      <th>Score</th>\n",
       "      <th>Time</th>\n",
       "      <th>Summary</th>\n",
       "      <th>Text</th>\n",
       "    </tr>\n",
       "  </thead>\n",
       "  <tbody>\n",
       "    <tr>\n",
       "      <th>0</th>\n",
       "      <td>1</td>\n",
       "      <td>B001E4KFG0</td>\n",
       "      <td>A3SGXH7AUHU8GW</td>\n",
       "      <td>delmartian</td>\n",
       "      <td>1</td>\n",
       "      <td>1</td>\n",
       "      <td>5</td>\n",
       "      <td>1303862400</td>\n",
       "      <td>Good Quality Dog Food</td>\n",
       "      <td>I have bought several of the Vitality canned d...</td>\n",
       "    </tr>\n",
       "    <tr>\n",
       "      <th>1</th>\n",
       "      <td>2</td>\n",
       "      <td>B00813GRG4</td>\n",
       "      <td>A1D87F6ZCVE5NK</td>\n",
       "      <td>dll pa</td>\n",
       "      <td>0</td>\n",
       "      <td>0</td>\n",
       "      <td>1</td>\n",
       "      <td>1346976000</td>\n",
       "      <td>Not as Advertised</td>\n",
       "      <td>Product arrived labeled as Jumbo Salted Peanut...</td>\n",
       "    </tr>\n",
       "    <tr>\n",
       "      <th>2</th>\n",
       "      <td>3</td>\n",
       "      <td>B000LQOCH0</td>\n",
       "      <td>ABXLMWJIXXAIN</td>\n",
       "      <td>Natalia Corres \"Natalia Corres\"</td>\n",
       "      <td>1</td>\n",
       "      <td>1</td>\n",
       "      <td>4</td>\n",
       "      <td>1219017600</td>\n",
       "      <td>\"Delight\" says it all</td>\n",
       "      <td>This is a confection that has been around a fe...</td>\n",
       "    </tr>\n",
       "    <tr>\n",
       "      <th>3</th>\n",
       "      <td>4</td>\n",
       "      <td>B000UA0QIQ</td>\n",
       "      <td>A395BORC6FGVXV</td>\n",
       "      <td>Karl</td>\n",
       "      <td>3</td>\n",
       "      <td>3</td>\n",
       "      <td>2</td>\n",
       "      <td>1307923200</td>\n",
       "      <td>Cough Medicine</td>\n",
       "      <td>If you are looking for the secret ingredient i...</td>\n",
       "    </tr>\n",
       "    <tr>\n",
       "      <th>4</th>\n",
       "      <td>5</td>\n",
       "      <td>B006K2ZZ7K</td>\n",
       "      <td>A1UQRSCLF8GW1T</td>\n",
       "      <td>Michael D. Bigham \"M. Wassir\"</td>\n",
       "      <td>0</td>\n",
       "      <td>0</td>\n",
       "      <td>5</td>\n",
       "      <td>1350777600</td>\n",
       "      <td>Great taffy</td>\n",
       "      <td>Great taffy at a great price.  There was a wid...</td>\n",
       "    </tr>\n",
       "  </tbody>\n",
       "</table>\n",
       "</div>"
      ],
      "text/plain": [
       "   Id   ProductId          UserId                      ProfileName  \\\n",
       "0   1  B001E4KFG0  A3SGXH7AUHU8GW                       delmartian   \n",
       "1   2  B00813GRG4  A1D87F6ZCVE5NK                           dll pa   \n",
       "2   3  B000LQOCH0   ABXLMWJIXXAIN  Natalia Corres \"Natalia Corres\"   \n",
       "3   4  B000UA0QIQ  A395BORC6FGVXV                             Karl   \n",
       "4   5  B006K2ZZ7K  A1UQRSCLF8GW1T    Michael D. Bigham \"M. Wassir\"   \n",
       "\n",
       "   HelpfulnessNumerator  HelpfulnessDenominator  Score        Time  \\\n",
       "0                     1                       1      5  1303862400   \n",
       "1                     0                       0      1  1346976000   \n",
       "2                     1                       1      4  1219017600   \n",
       "3                     3                       3      2  1307923200   \n",
       "4                     0                       0      5  1350777600   \n",
       "\n",
       "                 Summary                                               Text  \n",
       "0  Good Quality Dog Food  I have bought several of the Vitality canned d...  \n",
       "1      Not as Advertised  Product arrived labeled as Jumbo Salted Peanut...  \n",
       "2  \"Delight\" says it all  This is a confection that has been around a fe...  \n",
       "3         Cough Medicine  If you are looking for the secret ingredient i...  \n",
       "4            Great taffy  Great taffy at a great price.  There was a wid...  "
      ]
     },
     "execution_count": 120,
     "metadata": {},
     "output_type": "execute_result"
    }
   ],
   "source": [
    "#preview the dataset\n",
    "data.head()"
   ]
  },
  {
   "cell_type": "code",
   "execution_count": 122,
   "metadata": {},
   "outputs": [
    {
     "name": "stderr",
     "output_type": "stream",
     "text": [
      "C:\\Users\\Andreas Shepley\\Anaconda3\\lib\\site-packages\\ipykernel_launcher.py:2: UserWarning: Pandas doesn't allow columns to be created via a new attribute name - see https://pandas.pydata.org/pandas-docs/stable/indexing.html#attribute-access\n",
      "  \n"
     ]
    }
   ],
   "source": [
    "#Let's only consider the Summary feature\n",
    "data.features = data['Summary']"
   ]
  },
  {
   "cell_type": "markdown",
   "metadata": {},
   "source": [
    "This dataset is huge, so let's just have a look at the first 100 reviews"
   ]
  },
  {
   "cell_type": "code",
   "execution_count": 126,
   "metadata": {},
   "outputs": [],
   "source": [
    "reviews_subset = data.features[:100]"
   ]
  },
  {
   "cell_type": "markdown",
   "metadata": {},
   "source": [
    "Let's predefine 10 clusters. Experiment with the number of clusters, and see how generally/specifically you can cluster the reviews."
   ]
  },
  {
   "cell_type": "code",
   "execution_count": 128,
   "metadata": {},
   "outputs": [
    {
     "name": "stderr",
     "output_type": "stream",
     "text": [
      "C:\\Users\\Andreas Shepley\\Anaconda3\\lib\\site-packages\\sklearn\\feature_extraction\\text.py:300: UserWarning: Your stop_words may be inconsistent with your preprocessing. Tokenizing the stop words generated tokens [\"'d\", \"'ll\", \"'re\", \"'s\", \"'ve\", 'could', 'might', 'must', \"n't\", 'need', 'sha', 'wo', 'would'] not in stop_words.\n",
      "  'stop_words.' % sorted(inconsistent))\n"
     ]
    }
   ],
   "source": [
    "nclusters= 10\n",
    "clusters = cluster_sentences(reviews_subset, nclusters)"
   ]
  },
  {
   "cell_type": "markdown",
   "metadata": {},
   "source": [
    "Let's check out the results. As you can see, the words are not clustered 'intelligently'. Instead, the algorithm ignores very commonly used words, e.g. 'the' 'if' 'and', and then tries to cluster reviews based on key words, e.g. 'great', 'dog food' etc."
   ]
  },
  {
   "cell_type": "code",
   "execution_count": 129,
   "metadata": {
    "scrolled": false
   },
   "outputs": [
    {
     "name": "stdout",
     "output_type": "stream",
     "text": [
      "CLUSTER  0 :\n",
      "\tSENTENCE  0 :  poor taste\n",
      "\tSENTENCE  1 :  THIS IS MY TASTE...\n",
      "\tSENTENCE  2 :  Taste is not so good.\n",
      "\tSENTENCE  3 :  Taste great\n",
      "CLUSTER  1 :\n",
      "\tSENTENCE  0 :  Great Irish oatmeal for those in a hurry!\n",
      "\tSENTENCE  1 :  it's oatmeal\n",
      "\tSENTENCE  2 :  Why wouldn't you buy oatmeal from Mcanns? Tastes great!\n",
      "\tSENTENCE  3 :  Oatmeal For Oatmeal Lovers\n",
      "\tSENTENCE  4 :  Hearty Oatmeal\n",
      "\tSENTENCE  5 :  Very good but next time I won't order the Variety Pack\n",
      "\tSENTENCE  6 :  Don't like it\n",
      "\tSENTENCE  7 :  How much would you pay for a bag of chocolate pretzels?\n",
      "CLUSTER  2 :\n",
      "\tSENTENCE  0 :  fresh and greasy!\n",
      "\tSENTENCE  1 :  Love it!\n",
      "\tSENTENCE  2 :  Delicious product!\n",
      "\tSENTENCE  3 :  Please sell these in Mexico!!\n",
      "\tSENTENCE  4 :  YUMMY!\n",
      "\tSENTENCE  5 :  Love Gluten Free Oatmeal!!!\n",
      "\tSENTENCE  6 :  HOT!  And good!  Came back for more  :)\n",
      "\tSENTENCE  7 :  Our guests love it!\n",
      "\tSENTENCE  8 :  Awesome Deal!\n",
      "\tSENTENCE  9 :  How can you go wrong!\n",
      "\tSENTENCE  10 :  Awsome - Kids in neighborhood loved us!\n",
      "\tSENTENCE  11 :  Hammer Nutrition 's Fizz Rocks!\n",
      "\tSENTENCE  12 :  pretzel haven!\n",
      "\tSENTENCE  13 :  Warning!  WARNING!  -ALCOHOL SUGARS!\n",
      "\tSENTENCE  14 :  Delicious!\n",
      "\tSENTENCE  15 :  Forget Molecular Gastronomy - this stuff rockes a coffee creamer!\n",
      "CLUSTER  3 :\n",
      "\tSENTENCE  0 :  Good Quality Dog Food\n",
      "\tSENTENCE  1 :  Healthy Dog Food\n",
      "\tSENTENCE  2 :  My cats LOVE this \"diet\" food better than their regular food\n",
      "\tSENTENCE  3 :  My Cats Are Not Fans of the New Food\n",
      "\tSENTENCE  4 :  INCREASED MY DOGS ITCHING\n",
      "\tSENTENCE  5 :  Great food!\n",
      "\tSENTENCE  6 :  Great for my dogs allergies\n",
      "\tSENTENCE  7 :  Better life for you dog!\n",
      "\tSENTENCE  8 :  Great Food\n",
      "\tSENTENCE  9 :  Great food for my my dog who has a sensitive stomach.\n",
      "\tSENTENCE  10 :  Great dog food\n",
      "\tSENTENCE  11 :  Great Dog Food!\n",
      "\tSENTENCE  12 :  Good healthy dog food\n",
      "\tSENTENCE  13 :  Great dog food\n",
      "\tSENTENCE  14 :  Great allergy sensitive dog food, dogs love it\n",
      "CLUSTER  4 :\n",
      "\tSENTENCE  0 :  Strawberry Twizzlers - Yummy\n",
      "\tSENTENCE  1 :  Lots of twizzlers, just what you expect.\n",
      "\tSENTENCE  2 :  TWIZZLERS\n",
      "\tSENTENCE  3 :  Twizzlers\n",
      "\tSENTENCE  4 :  Twizzlers - Strawberry\n",
      "CLUSTER  5 :\n",
      "\tSENTENCE  0 :  Not as Advertised\n",
      "\tSENTENCE  1 :  \"Delight\" says it all\n",
      "\tSENTENCE  2 :  Cough Medicine\n",
      "\tSENTENCE  3 :  Yay Barley\n",
      "\tSENTENCE  4 :  The Best Hot Sauce in the World\n",
      "\tSENTENCE  5 :  Home delivered twizlers\n",
      "\tSENTENCE  6 :  Always fresh\n",
      "\tSENTENCE  7 :  Nasty No flavor\n",
      "\tSENTENCE  8 :  The Best Hot Sauce in the World\n",
      "\tSENTENCE  9 :  Best of the Instant Oatmeals\n",
      "\tSENTENCE  10 :  satisfying\n",
      "\tSENTENCE  11 :  Wife's favorite Breakfast\n",
      "\tSENTENCE  12 :  Food-Great\n",
      "\tSENTENCE  13 :  Mushy\n",
      "\tSENTENCE  14 :  Same stuff\n",
      "\tSENTENCE  15 :  not ass kickin\n",
      "\tSENTENCE  16 :  Roasts up a smooth brew\n",
      "\tSENTENCE  17 :  Better price for this at Target\n",
      "\tSENTENCE  18 :  pretty expensive\n",
      "\tSENTENCE  19 :  Low Carb Alternative to Gatorade\n",
      "\tSENTENCE  20 :  Bigger then other brands\n",
      "\tSENTENCE  21 :  Best ever latice tart\n",
      "\tSENTENCE  22 :  nothing special\n",
      "\tSENTENCE  23 :  No Tea Flavor\n",
      "\tSENTENCE  24 :  Order only in cold weather\n",
      "\tSENTENCE  25 :  this is the best\n",
      "\tSENTENCE  26 :  Natural Balance Lamb and Rice\n",
      "\tSENTENCE  27 :  Perfect for our English Bulldog with Allergies\n",
      "\tSENTENCE  28 :  Bad\n",
      "CLUSTER  6 :\n",
      "\tSENTENCE  0 :  Good Instant\n",
      "\tSENTENCE  1 :  GOOD WAY TO START THE DAY....\n",
      "\tSENTENCE  2 :  Good Hot Breakfast\n",
      "\tSENTENCE  3 :  good\n",
      "\tSENTENCE  4 :  You'll go nuts over Ass-Kickin' Peanuts.\n",
      "\tSENTENCE  5 :  stale product.\n",
      "\tSENTENCE  6 :  Good\n",
      "\tSENTENCE  7 :  Mmmmm  Mmmmm good.\n",
      "CLUSTER  7 :\n",
      "\tSENTENCE  0 :  Great taste and convenience\n",
      "\tSENTENCE  1 :  So convenient\n",
      "CLUSTER  8 :\n",
      "\tSENTENCE  0 :  Great taffy\n",
      "\tSENTENCE  1 :  Nice Taffy\n",
      "\tSENTENCE  2 :  Wonderful, tasty taffy\n",
      "\tSENTENCE  3 :  Great Bargain for the Price\n",
      "\tSENTENCE  4 :  great deal.\n",
      "\tSENTENCE  5 :  great source of electrolytes\n",
      "\tSENTENCE  6 :  Great for preventing cramps\n",
      "\tSENTENCE  7 :  Great\n",
      "CLUSTER  9 :\n",
      "\tSENTENCE  0 :  Great!  Just as good as the expensive brands!\n",
      "\tSENTENCE  1 :  GREAT SWEET CANDY!\n",
      "\tSENTENCE  2 :  Great machine!\n",
      "\tSENTENCE  3 :  Great Gummi!\n",
      "\tSENTENCE  4 :  Great for stomach problems!\n"
     ]
    }
   ],
   "source": [
    "for cluster in range(nclusters):\n",
    "    print(\"CLUSTER \",cluster,\":\")\n",
    "    for i,sentence in enumerate(clusters[cluster]):\n",
    "        print(\"\\tSENTENCE \",i,\": \",reviews_subset[sentence])\n",
    "\n"
   ]
  }
 ],
 "metadata": {
  "kernelspec": {
   "display_name": "Python 3",
   "language": "python",
   "name": "python3"
  },
  "language_info": {
   "codemirror_mode": {
    "name": "ipython",
    "version": 3
   },
   "file_extension": ".py",
   "mimetype": "text/x-python",
   "name": "python",
   "nbconvert_exporter": "python",
   "pygments_lexer": "ipython3",
   "version": "3.7.1"
  }
 },
 "nbformat": 4,
 "nbformat_minor": 2
}
