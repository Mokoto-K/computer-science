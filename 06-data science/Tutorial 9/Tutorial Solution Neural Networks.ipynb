{
 "cells": [
  {
   "cell_type": "markdown",
   "metadata": {},
   "source": [
    "## Tutorial Solution: Neural Networks\n",
    "\n",
    "You have been employed as a data scientist by the Bureau of Meteorology to build a model to predict the intensity of bushfires in Australia using the Fire Radiative Power (FRP) technique. \n",
    "\n",
    "You will be using the **Fires from Space: Australia\n",
    "NASA Satellite Data MODISC6 and VIIRS 375m from 2019-08-01 to 2020-01-11** dataset, available on Kaggle: https://www.kaggle.com/carlosparadis/fires-from-space-australia-and-new-zeland?select=fire_archive_M6_96619.csv"
   ]
  },
  {
   "cell_type": "code",
   "execution_count": 1,
   "metadata": {},
   "outputs": [],
   "source": [
    "#import libraries\n",
    "import numpy as np\n",
    "import pandas as pd\n",
    "from sklearn.model_selection import *\n",
    "from sklearn.linear_model import *\n",
    "from sklearn import metrics\n",
    "from sklearn.neural_network import MLPRegressor\n",
    "import matplotlib.pyplot as plt\n",
    "\n",
    "def check_NaN(dataframe):\n",
    "    print(\"Total NaN:\", dataframe.isnull().values.sum())\n",
    "    print(\"NaN by column:\\n\",dataframe.isnull().sum())\n",
    "    return\n",
    "\n",
    "def one_hot_encode(dataframe, col_name):\n",
    "    dataframe = pd.get_dummies(dataframe, columns=[col_name], prefix = [col_name])\n",
    "    return dataframe"
   ]
  },
  {
   "cell_type": "code",
   "execution_count": 2,
   "metadata": {},
   "outputs": [],
   "source": [
    "#load the dataset\n",
    "data = pd.read_csv(\"./datasets/fires.csv\")"
   ]
  },
  {
   "cell_type": "code",
   "execution_count": 3,
   "metadata": {},
   "outputs": [
    {
     "data": {
      "text/html": [
       "<div>\n",
       "<style scoped>\n",
       "    .dataframe tbody tr th:only-of-type {\n",
       "        vertical-align: middle;\n",
       "    }\n",
       "\n",
       "    .dataframe tbody tr th {\n",
       "        vertical-align: top;\n",
       "    }\n",
       "\n",
       "    .dataframe thead th {\n",
       "        text-align: right;\n",
       "    }\n",
       "</style>\n",
       "<table border=\"1\" class=\"dataframe\">\n",
       "  <thead>\n",
       "    <tr style=\"text-align: right;\">\n",
       "      <th></th>\n",
       "      <th>latitude</th>\n",
       "      <th>longitude</th>\n",
       "      <th>brightness</th>\n",
       "      <th>scan</th>\n",
       "      <th>track</th>\n",
       "      <th>acq_date</th>\n",
       "      <th>acq_time</th>\n",
       "      <th>satellite</th>\n",
       "      <th>instrument</th>\n",
       "      <th>confidence</th>\n",
       "      <th>version</th>\n",
       "      <th>bright_t31</th>\n",
       "      <th>frp</th>\n",
       "      <th>daynight</th>\n",
       "      <th>type</th>\n",
       "    </tr>\n",
       "  </thead>\n",
       "  <tbody>\n",
       "    <tr>\n",
       "      <th>0</th>\n",
       "      <td>-11.8070</td>\n",
       "      <td>142.0583</td>\n",
       "      <td>313.0</td>\n",
       "      <td>1.0</td>\n",
       "      <td>1.0</td>\n",
       "      <td>2019-08-01</td>\n",
       "      <td>56</td>\n",
       "      <td>Terra</td>\n",
       "      <td>MODIS</td>\n",
       "      <td>48</td>\n",
       "      <td>6.3</td>\n",
       "      <td>297.3</td>\n",
       "      <td>6.6</td>\n",
       "      <td>D</td>\n",
       "      <td>0</td>\n",
       "    </tr>\n",
       "    <tr>\n",
       "      <th>1</th>\n",
       "      <td>-11.7924</td>\n",
       "      <td>142.0850</td>\n",
       "      <td>319.3</td>\n",
       "      <td>1.0</td>\n",
       "      <td>1.0</td>\n",
       "      <td>2019-08-01</td>\n",
       "      <td>56</td>\n",
       "      <td>Terra</td>\n",
       "      <td>MODIS</td>\n",
       "      <td>71</td>\n",
       "      <td>6.3</td>\n",
       "      <td>297.3</td>\n",
       "      <td>11.3</td>\n",
       "      <td>D</td>\n",
       "      <td>0</td>\n",
       "    </tr>\n",
       "    <tr>\n",
       "      <th>2</th>\n",
       "      <td>-12.8398</td>\n",
       "      <td>132.8744</td>\n",
       "      <td>311.6</td>\n",
       "      <td>3.1</td>\n",
       "      <td>1.7</td>\n",
       "      <td>2019-08-01</td>\n",
       "      <td>57</td>\n",
       "      <td>Terra</td>\n",
       "      <td>MODIS</td>\n",
       "      <td>42</td>\n",
       "      <td>6.3</td>\n",
       "      <td>298.7</td>\n",
       "      <td>23.1</td>\n",
       "      <td>D</td>\n",
       "      <td>0</td>\n",
       "    </tr>\n",
       "    <tr>\n",
       "      <th>3</th>\n",
       "      <td>-14.4306</td>\n",
       "      <td>143.3035</td>\n",
       "      <td>310.1</td>\n",
       "      <td>1.1</td>\n",
       "      <td>1.1</td>\n",
       "      <td>2019-08-01</td>\n",
       "      <td>57</td>\n",
       "      <td>Terra</td>\n",
       "      <td>MODIS</td>\n",
       "      <td>33</td>\n",
       "      <td>6.3</td>\n",
       "      <td>296.1</td>\n",
       "      <td>6.5</td>\n",
       "      <td>D</td>\n",
       "      <td>0</td>\n",
       "    </tr>\n",
       "    <tr>\n",
       "      <th>4</th>\n",
       "      <td>-12.4953</td>\n",
       "      <td>131.4897</td>\n",
       "      <td>310.3</td>\n",
       "      <td>4.0</td>\n",
       "      <td>1.9</td>\n",
       "      <td>2019-08-01</td>\n",
       "      <td>57</td>\n",
       "      <td>Terra</td>\n",
       "      <td>MODIS</td>\n",
       "      <td>36</td>\n",
       "      <td>6.3</td>\n",
       "      <td>298.8</td>\n",
       "      <td>27.6</td>\n",
       "      <td>D</td>\n",
       "      <td>0</td>\n",
       "    </tr>\n",
       "  </tbody>\n",
       "</table>\n",
       "</div>"
      ],
      "text/plain": [
       "   latitude  longitude  brightness  scan  track    acq_date  acq_time  \\\n",
       "0  -11.8070   142.0583       313.0   1.0    1.0  2019-08-01        56   \n",
       "1  -11.7924   142.0850       319.3   1.0    1.0  2019-08-01        56   \n",
       "2  -12.8398   132.8744       311.6   3.1    1.7  2019-08-01        57   \n",
       "3  -14.4306   143.3035       310.1   1.1    1.1  2019-08-01        57   \n",
       "4  -12.4953   131.4897       310.3   4.0    1.9  2019-08-01        57   \n",
       "\n",
       "  satellite instrument  confidence  version  bright_t31   frp daynight  type  \n",
       "0     Terra      MODIS          48      6.3       297.3   6.6        D     0  \n",
       "1     Terra      MODIS          71      6.3       297.3  11.3        D     0  \n",
       "2     Terra      MODIS          42      6.3       298.7  23.1        D     0  \n",
       "3     Terra      MODIS          33      6.3       296.1   6.5        D     0  \n",
       "4     Terra      MODIS          36      6.3       298.8  27.6        D     0  "
      ]
     },
     "execution_count": 3,
     "metadata": {},
     "output_type": "execute_result"
    }
   ],
   "source": [
    "#check out its features\n",
    "data.head()"
   ]
  },
  {
   "cell_type": "code",
   "execution_count": 4,
   "metadata": {},
   "outputs": [
    {
     "data": {
      "text/html": [
       "<div>\n",
       "<style scoped>\n",
       "    .dataframe tbody tr th:only-of-type {\n",
       "        vertical-align: middle;\n",
       "    }\n",
       "\n",
       "    .dataframe tbody tr th {\n",
       "        vertical-align: top;\n",
       "    }\n",
       "\n",
       "    .dataframe thead th {\n",
       "        text-align: right;\n",
       "    }\n",
       "</style>\n",
       "<table border=\"1\" class=\"dataframe\">\n",
       "  <thead>\n",
       "    <tr style=\"text-align: right;\">\n",
       "      <th></th>\n",
       "      <th>latitude</th>\n",
       "      <th>longitude</th>\n",
       "      <th>brightness</th>\n",
       "      <th>scan</th>\n",
       "      <th>track</th>\n",
       "      <th>acq_date</th>\n",
       "      <th>acq_time</th>\n",
       "      <th>satellite</th>\n",
       "      <th>instrument</th>\n",
       "      <th>confidence</th>\n",
       "      <th>version</th>\n",
       "      <th>bright_t31</th>\n",
       "      <th>frp</th>\n",
       "      <th>type</th>\n",
       "      <th>daynight_D</th>\n",
       "      <th>daynight_N</th>\n",
       "    </tr>\n",
       "  </thead>\n",
       "  <tbody>\n",
       "    <tr>\n",
       "      <th>0</th>\n",
       "      <td>-11.8070</td>\n",
       "      <td>142.0583</td>\n",
       "      <td>313.0</td>\n",
       "      <td>1.0</td>\n",
       "      <td>1.0</td>\n",
       "      <td>2019-08-01</td>\n",
       "      <td>56</td>\n",
       "      <td>Terra</td>\n",
       "      <td>MODIS</td>\n",
       "      <td>48</td>\n",
       "      <td>6.3</td>\n",
       "      <td>297.3</td>\n",
       "      <td>6.6</td>\n",
       "      <td>0</td>\n",
       "      <td>1</td>\n",
       "      <td>0</td>\n",
       "    </tr>\n",
       "    <tr>\n",
       "      <th>1</th>\n",
       "      <td>-11.7924</td>\n",
       "      <td>142.0850</td>\n",
       "      <td>319.3</td>\n",
       "      <td>1.0</td>\n",
       "      <td>1.0</td>\n",
       "      <td>2019-08-01</td>\n",
       "      <td>56</td>\n",
       "      <td>Terra</td>\n",
       "      <td>MODIS</td>\n",
       "      <td>71</td>\n",
       "      <td>6.3</td>\n",
       "      <td>297.3</td>\n",
       "      <td>11.3</td>\n",
       "      <td>0</td>\n",
       "      <td>1</td>\n",
       "      <td>0</td>\n",
       "    </tr>\n",
       "    <tr>\n",
       "      <th>2</th>\n",
       "      <td>-12.8398</td>\n",
       "      <td>132.8744</td>\n",
       "      <td>311.6</td>\n",
       "      <td>3.1</td>\n",
       "      <td>1.7</td>\n",
       "      <td>2019-08-01</td>\n",
       "      <td>57</td>\n",
       "      <td>Terra</td>\n",
       "      <td>MODIS</td>\n",
       "      <td>42</td>\n",
       "      <td>6.3</td>\n",
       "      <td>298.7</td>\n",
       "      <td>23.1</td>\n",
       "      <td>0</td>\n",
       "      <td>1</td>\n",
       "      <td>0</td>\n",
       "    </tr>\n",
       "    <tr>\n",
       "      <th>3</th>\n",
       "      <td>-14.4306</td>\n",
       "      <td>143.3035</td>\n",
       "      <td>310.1</td>\n",
       "      <td>1.1</td>\n",
       "      <td>1.1</td>\n",
       "      <td>2019-08-01</td>\n",
       "      <td>57</td>\n",
       "      <td>Terra</td>\n",
       "      <td>MODIS</td>\n",
       "      <td>33</td>\n",
       "      <td>6.3</td>\n",
       "      <td>296.1</td>\n",
       "      <td>6.5</td>\n",
       "      <td>0</td>\n",
       "      <td>1</td>\n",
       "      <td>0</td>\n",
       "    </tr>\n",
       "    <tr>\n",
       "      <th>4</th>\n",
       "      <td>-12.4953</td>\n",
       "      <td>131.4897</td>\n",
       "      <td>310.3</td>\n",
       "      <td>4.0</td>\n",
       "      <td>1.9</td>\n",
       "      <td>2019-08-01</td>\n",
       "      <td>57</td>\n",
       "      <td>Terra</td>\n",
       "      <td>MODIS</td>\n",
       "      <td>36</td>\n",
       "      <td>6.3</td>\n",
       "      <td>298.8</td>\n",
       "      <td>27.6</td>\n",
       "      <td>0</td>\n",
       "      <td>1</td>\n",
       "      <td>0</td>\n",
       "    </tr>\n",
       "  </tbody>\n",
       "</table>\n",
       "</div>"
      ],
      "text/plain": [
       "   latitude  longitude  brightness  scan  track    acq_date  acq_time  \\\n",
       "0  -11.8070   142.0583       313.0   1.0    1.0  2019-08-01        56   \n",
       "1  -11.7924   142.0850       319.3   1.0    1.0  2019-08-01        56   \n",
       "2  -12.8398   132.8744       311.6   3.1    1.7  2019-08-01        57   \n",
       "3  -14.4306   143.3035       310.1   1.1    1.1  2019-08-01        57   \n",
       "4  -12.4953   131.4897       310.3   4.0    1.9  2019-08-01        57   \n",
       "\n",
       "  satellite instrument  confidence  version  bright_t31   frp  type  \\\n",
       "0     Terra      MODIS          48      6.3       297.3   6.6     0   \n",
       "1     Terra      MODIS          71      6.3       297.3  11.3     0   \n",
       "2     Terra      MODIS          42      6.3       298.7  23.1     0   \n",
       "3     Terra      MODIS          33      6.3       296.1   6.5     0   \n",
       "4     Terra      MODIS          36      6.3       298.8  27.6     0   \n",
       "\n",
       "   daynight_D  daynight_N  \n",
       "0           1           0  \n",
       "1           1           0  \n",
       "2           1           0  \n",
       "3           1           0  \n",
       "4           1           0  "
      ]
     },
     "execution_count": 4,
     "metadata": {},
     "output_type": "execute_result"
    }
   ],
   "source": [
    "#one hot encode the daynight feature\n",
    "subset = one_hot_encode(data, 'daynight')\n",
    "subset.head()"
   ]
  },
  {
   "cell_type": "code",
   "execution_count": 5,
   "metadata": {},
   "outputs": [
    {
     "data": {
      "text/html": [
       "<div>\n",
       "<style scoped>\n",
       "    .dataframe tbody tr th:only-of-type {\n",
       "        vertical-align: middle;\n",
       "    }\n",
       "\n",
       "    .dataframe tbody tr th {\n",
       "        vertical-align: top;\n",
       "    }\n",
       "\n",
       "    .dataframe thead th {\n",
       "        text-align: right;\n",
       "    }\n",
       "</style>\n",
       "<table border=\"1\" class=\"dataframe\">\n",
       "  <thead>\n",
       "    <tr style=\"text-align: right;\">\n",
       "      <th></th>\n",
       "      <th>latitude</th>\n",
       "      <th>longitude</th>\n",
       "      <th>brightness</th>\n",
       "      <th>confidence</th>\n",
       "      <th>bright_t31</th>\n",
       "      <th>frp</th>\n",
       "      <th>daynight_D</th>\n",
       "    </tr>\n",
       "  </thead>\n",
       "  <tbody>\n",
       "    <tr>\n",
       "      <th>0</th>\n",
       "      <td>-11.8070</td>\n",
       "      <td>142.0583</td>\n",
       "      <td>313.0</td>\n",
       "      <td>48</td>\n",
       "      <td>297.3</td>\n",
       "      <td>6.6</td>\n",
       "      <td>1</td>\n",
       "    </tr>\n",
       "    <tr>\n",
       "      <th>1</th>\n",
       "      <td>-11.7924</td>\n",
       "      <td>142.0850</td>\n",
       "      <td>319.3</td>\n",
       "      <td>71</td>\n",
       "      <td>297.3</td>\n",
       "      <td>11.3</td>\n",
       "      <td>1</td>\n",
       "    </tr>\n",
       "    <tr>\n",
       "      <th>2</th>\n",
       "      <td>-12.8398</td>\n",
       "      <td>132.8744</td>\n",
       "      <td>311.6</td>\n",
       "      <td>42</td>\n",
       "      <td>298.7</td>\n",
       "      <td>23.1</td>\n",
       "      <td>1</td>\n",
       "    </tr>\n",
       "    <tr>\n",
       "      <th>3</th>\n",
       "      <td>-14.4306</td>\n",
       "      <td>143.3035</td>\n",
       "      <td>310.1</td>\n",
       "      <td>33</td>\n",
       "      <td>296.1</td>\n",
       "      <td>6.5</td>\n",
       "      <td>1</td>\n",
       "    </tr>\n",
       "    <tr>\n",
       "      <th>4</th>\n",
       "      <td>-12.4953</td>\n",
       "      <td>131.4897</td>\n",
       "      <td>310.3</td>\n",
       "      <td>36</td>\n",
       "      <td>298.8</td>\n",
       "      <td>27.6</td>\n",
       "      <td>1</td>\n",
       "    </tr>\n",
       "  </tbody>\n",
       "</table>\n",
       "</div>"
      ],
      "text/plain": [
       "   latitude  longitude  brightness  confidence  bright_t31   frp  daynight_D\n",
       "0  -11.8070   142.0583       313.0          48       297.3   6.6           1\n",
       "1  -11.7924   142.0850       319.3          71       297.3  11.3           1\n",
       "2  -12.8398   132.8744       311.6          42       298.7  23.1           1\n",
       "3  -14.4306   143.3035       310.1          33       296.1   6.5           1\n",
       "4  -12.4953   131.4897       310.3          36       298.8  27.6           1"
      ]
     },
     "execution_count": 5,
     "metadata": {},
     "output_type": "execute_result"
    }
   ],
   "source": [
    "#select the following as your chosen_features: 'latitude','longitude','brightness','confidence','bright_t31','frp','daynight_D'\n",
    "chosen_features = subset.filter(['latitude','longitude','brightness','confidence','bright_t31','frp','daynight_D'])\n",
    "chosen_features.head()"
   ]
  },
  {
   "cell_type": "code",
   "execution_count": 6,
   "metadata": {},
   "outputs": [
    {
     "name": "stdout",
     "output_type": "stream",
     "text": [
      "Total NaN: 0\n",
      "NaN by column:\n",
      " latitude      0\n",
      "longitude     0\n",
      "brightness    0\n",
      "confidence    0\n",
      "bright_t31    0\n",
      "frp           0\n",
      "daynight_D    0\n",
      "dtype: int64\n"
     ]
    }
   ],
   "source": [
    "#always remember to check for NaN values\n",
    "check_NaN(chosen_features)"
   ]
  },
  {
   "cell_type": "code",
   "execution_count": 7,
   "metadata": {},
   "outputs": [
    {
     "name": "stdout",
     "output_type": "stream",
     "text": [
      "x train/test  (32409, 6) (3602, 6)\n",
      "y train/test  (32409,) (3602,)\n"
     ]
    }
   ],
   "source": [
    "#Create the train/test splits \n",
    "x_train, x_test, y_train, y_test = train_test_split(chosen_features.drop(['frp'], axis=1),chosen_features['frp'],test_size=0.1)                                                                       \n",
    "print(\"x train/test \",x_train.shape, x_test.shape)\n",
    "print(\"y train/test \",y_train.shape, y_test.shape)"
   ]
  },
  {
   "cell_type": "code",
   "execution_count": 8,
   "metadata": {},
   "outputs": [],
   "source": [
    "#Convert them from pandas to numpy arrays\n",
    "x = x_train.values\n",
    "y = y_train.values\n",
    "x_t = x_test.values\n",
    "y_t = y_test.values"
   ]
  },
  {
   "cell_type": "code",
   "execution_count": 9,
   "metadata": {},
   "outputs": [
    {
     "data": {
      "text/plain": [
       "MLPRegressor(activation='relu', alpha=0.0001, batch_size='auto', beta_1=0.9,\n",
       "       beta_2=0.999, early_stopping=False, epsilon=1e-08,\n",
       "       hidden_layer_sizes=(100,), learning_rate='constant',\n",
       "       learning_rate_init=0.001, max_iter=200, momentum=0.9,\n",
       "       n_iter_no_change=10, nesterovs_momentum=True, power_t=0.5,\n",
       "       random_state=None, shuffle=True, solver='adam', tol=0.0001,\n",
       "       validation_fraction=0.1, verbose=False, warm_start=False)"
      ]
     },
     "execution_count": 9,
     "metadata": {},
     "output_type": "execute_result"
    }
   ],
   "source": [
    "#create then train an MLP Regressor model\n",
    "MLP = MLPRegressor()\n",
    "MLP.fit(x, y)"
   ]
  },
  {
   "cell_type": "code",
   "execution_count": 10,
   "metadata": {},
   "outputs": [
    {
     "name": "stdout",
     "output_type": "stream",
     "text": [
      "Mean squared error:  4013.8250384359026\n",
      "Co-efficient of determination:  0.5560276400482107\n"
     ]
    }
   ],
   "source": [
    "#Run your model on the test set, then calculate the mean squared error and co-efficient of determination\n",
    "predictions = MLP.predict(x_t)\n",
    "print(\"Mean squared error: \",np.mean((predictions - y_t) ** 2))\n",
    "print(\"Co-efficient of determination: \",metrics.r2_score(y_t, predictions))"
   ]
  },
  {
   "cell_type": "markdown",
   "metadata": {},
   "source": [
    "Use matplotlib to draw a scatterplot comparing the real v predicted datapoints as seen in the \"Multi-Layered Perceptron: The Regression MLP\" lecture\n",
    " \n"
   ]
  },
  {
   "cell_type": "code",
   "execution_count": 11,
   "metadata": {},
   "outputs": [
    {
     "data": {
      "image/png": "[encoded data removed]",
      "text/plain": [
       "<Figure size 432x288 with 1 Axes>"
      ]
     },
     "metadata": {
      "needs_background": "light"
     },
     "output_type": "display_data"
    }
   ],
   "source": [
    "#scatterplot\n",
    "fig = plt.figure()\n",
    "ax1 = fig.add_subplot(111)\n",
    "ax1.scatter(x[:,0],y, s=5, c='b', label='real')\n",
    "ax1.scatter(x_t[:,0],predictions, s=5, c='r', marker=\"o\", label='predicted')\n",
    "plt.legend()\n",
    "plt.show()"
   ]
  },
  {
   "cell_type": "code",
   "execution_count": 12,
   "metadata": {},
   "outputs": [
    {
     "name": "stdout",
     "output_type": "stream",
     "text": [
      "The predicted FRP value of a fire with the following values  [-12.6826, 143.1027, 334.6, 84, 305.7, 1]  is  40.34\n"
     ]
    }
   ],
   "source": [
    "#see what your model does when you pass in a test fire\n",
    "test_fire = [-12.6826,143.1027,334.6,84,305.7,1]\n",
    "#pass in the test_fire\n",
    "prediction = MLP.predict([test_fire])\n",
    "print(\"The predicted FRP value of a fire with the following values \",test_fire,\" is \",round(prediction[0],2))"
   ]
  },
  {
   "cell_type": "markdown",
   "metadata": {},
   "source": [
    "#### MLP Classifier\n",
    "Your supervisor has given you news that the BOM has come to a conclusion that all fires with FRP scores equalt to or above 100 are to be considered as threatening, with those with an FRP score below 100 being considered non-threatening. You are to create a classification model that predicts whether a given fire will be threatening or non-threatening."
   ]
  },
  {
   "cell_type": "code",
   "execution_count": 13,
   "metadata": {},
   "outputs": [],
   "source": [
    "#import the MLPClassifier\n",
    "from sklearn.neural_network import MLPClassifier"
   ]
  },
  {
   "cell_type": "code",
   "execution_count": 14,
   "metadata": {},
   "outputs": [],
   "source": [
    "#Replace all frp values in your chosen_features pandaframe with 0 or 1 based on the above threshold\n",
    "chosen_features.loc[chosen_features['frp'] < 100, 'frp'] = 0\n",
    "chosen_features.loc[chosen_features['frp'] >= 100, 'frp'] = 1"
   ]
  },
  {
   "cell_type": "code",
   "execution_count": 15,
   "metadata": {},
   "outputs": [
    {
     "data": {
      "text/html": [
       "<div>\n",
       "<style scoped>\n",
       "    .dataframe tbody tr th:only-of-type {\n",
       "        vertical-align: middle;\n",
       "    }\n",
       "\n",
       "    .dataframe tbody tr th {\n",
       "        vertical-align: top;\n",
       "    }\n",
       "\n",
       "    .dataframe thead th {\n",
       "        text-align: right;\n",
       "    }\n",
       "</style>\n",
       "<table border=\"1\" class=\"dataframe\">\n",
       "  <thead>\n",
       "    <tr style=\"text-align: right;\">\n",
       "      <th></th>\n",
       "      <th>latitude</th>\n",
       "      <th>longitude</th>\n",
       "      <th>brightness</th>\n",
       "      <th>confidence</th>\n",
       "      <th>bright_t31</th>\n",
       "      <th>frp</th>\n",
       "      <th>daynight_D</th>\n",
       "    </tr>\n",
       "  </thead>\n",
       "  <tbody>\n",
       "    <tr>\n",
       "      <th>0</th>\n",
       "      <td>-11.8070</td>\n",
       "      <td>142.0583</td>\n",
       "      <td>313.0</td>\n",
       "      <td>48</td>\n",
       "      <td>297.3</td>\n",
       "      <td>0.0</td>\n",
       "      <td>1</td>\n",
       "    </tr>\n",
       "    <tr>\n",
       "      <th>1</th>\n",
       "      <td>-11.7924</td>\n",
       "      <td>142.0850</td>\n",
       "      <td>319.3</td>\n",
       "      <td>71</td>\n",
       "      <td>297.3</td>\n",
       "      <td>0.0</td>\n",
       "      <td>1</td>\n",
       "    </tr>\n",
       "    <tr>\n",
       "      <th>2</th>\n",
       "      <td>-12.8398</td>\n",
       "      <td>132.8744</td>\n",
       "      <td>311.6</td>\n",
       "      <td>42</td>\n",
       "      <td>298.7</td>\n",
       "      <td>0.0</td>\n",
       "      <td>1</td>\n",
       "    </tr>\n",
       "    <tr>\n",
       "      <th>3</th>\n",
       "      <td>-14.4306</td>\n",
       "      <td>143.3035</td>\n",
       "      <td>310.1</td>\n",
       "      <td>33</td>\n",
       "      <td>296.1</td>\n",
       "      <td>0.0</td>\n",
       "      <td>1</td>\n",
       "    </tr>\n",
       "    <tr>\n",
       "      <th>4</th>\n",
       "      <td>-12.4953</td>\n",
       "      <td>131.4897</td>\n",
       "      <td>310.3</td>\n",
       "      <td>36</td>\n",
       "      <td>298.8</td>\n",
       "      <td>0.0</td>\n",
       "      <td>1</td>\n",
       "    </tr>\n",
       "  </tbody>\n",
       "</table>\n",
       "</div>"
      ],
      "text/plain": [
       "   latitude  longitude  brightness  confidence  bright_t31  frp  daynight_D\n",
       "0  -11.8070   142.0583       313.0          48       297.3  0.0           1\n",
       "1  -11.7924   142.0850       319.3          71       297.3  0.0           1\n",
       "2  -12.8398   132.8744       311.6          42       298.7  0.0           1\n",
       "3  -14.4306   143.3035       310.1          33       296.1  0.0           1\n",
       "4  -12.4953   131.4897       310.3          36       298.8  0.0           1"
      ]
     },
     "execution_count": 15,
     "metadata": {},
     "output_type": "execute_result"
    }
   ],
   "source": [
    "#preview your chosen_features\n",
    "chosen_features.head()"
   ]
  },
  {
   "cell_type": "code",
   "execution_count": 16,
   "metadata": {},
   "outputs": [
    {
     "name": "stdout",
     "output_type": "stream",
     "text": [
      "x train/test  (32409, 6) (3602, 6)\n",
      "y train/test  (32409,) (3602,)\n"
     ]
    }
   ],
   "source": [
    "#Create the train/test splits\n",
    "x_train, x_test, y_train, y_test = train_test_split(chosen_features.drop(['frp'], axis=1),chosen_features['frp'],test_size=0.1)                                                                       \n",
    "print(\"x train/test \",x_train.shape, x_test.shape)\n",
    "print(\"y train/test \",y_train.shape, y_test.shape)"
   ]
  },
  {
   "cell_type": "code",
   "execution_count": 17,
   "metadata": {},
   "outputs": [],
   "source": [
    "#Convert them from pandas to numpy arrays\n",
    "x = x_train.values\n",
    "y = y_train.values\n",
    "x_t = x_test.values\n",
    "y_t = y_test.values"
   ]
  },
  {
   "cell_type": "code",
   "execution_count": 18,
   "metadata": {},
   "outputs": [
    {
     "data": {
      "text/plain": [
       "MLPClassifier(activation='relu', alpha=0.0001, batch_size='auto', beta_1=0.9,\n",
       "       beta_2=0.999, early_stopping=False, epsilon=1e-08,\n",
       "       hidden_layer_sizes=(100,), learning_rate='constant',\n",
       "       learning_rate_init=0.001, max_iter=200, momentum=0.9,\n",
       "       n_iter_no_change=10, nesterovs_momentum=True, power_t=0.5,\n",
       "       random_state=None, shuffle=True, solver='adam', tol=0.0001,\n",
       "       validation_fraction=0.1, verbose=False, warm_start=False)"
      ]
     },
     "execution_count": 18,
     "metadata": {},
     "output_type": "execute_result"
    }
   ],
   "source": [
    "#create then train an MLP Classifier model\n",
    "MLP = MLPClassifier() \n",
    "MLP.fit(x, y)"
   ]
  },
  {
   "cell_type": "code",
   "execution_count": 19,
   "metadata": {},
   "outputs": [
    {
     "name": "stdout",
     "output_type": "stream",
     "text": [
      "Mean squared error:  0.06468628539700166\n",
      "Accuracy: 94.0%\n"
     ]
    }
   ],
   "source": [
    "#Run your model on the test set, then calculate the mean squared error and accuracy\n",
    "predictions = MLP.predict(x_t)\n",
    "print(\"Mean squared error: \",np.mean((predictions - y_t) ** 2))\n",
    "print(\"Accuracy:\",str(round(metrics.accuracy_score(y_t, predictions)*100))+\"%\")"
   ]
  },
  {
   "cell_type": "markdown",
   "metadata": {},
   "source": [
    "Modify the code below by using an if statement and the threatening/non-threatening threshold to print the following message: \"A fire at latitide/longitude[ -12.6826 , 143.1027 ] with brightness 334.6 is classified as: Non-threatening\""
   ]
  },
  {
   "cell_type": "code",
   "execution_count": 20,
   "metadata": {},
   "outputs": [
    {
     "name": "stdout",
     "output_type": "stream",
     "text": [
      "A fire at latitide/longitude[ -12.6826 , 143.1027 ] with brightness 334.6 is classified as: Non-threatening\n"
     ]
    }
   ],
   "source": [
    "test_fire = [-12.6826,143.1027,334.6,84,305.7,1]\n",
    "prediction = MLP.predict([test_fire])\n",
    "output=''\n",
    "if prediction==0:\n",
    "    output='Non-threatening'\n",
    "else:\n",
    "    output='Threatening'\n",
    "print(\"A fire at latitide/longitude[\",test_fire[0],\",\", test_fire[1],\"] with brightness\",test_fire[2],\"is classified as:\",output)"
   ]
  },
  {
   "cell_type": "markdown",
   "metadata": {},
   "source": [
    "As a very curious data scientist, you can't help wondering how well a single perceptron model would work in this situation..."
   ]
  },
  {
   "cell_type": "code",
   "execution_count": 21,
   "metadata": {},
   "outputs": [
    {
     "name": "stderr",
     "output_type": "stream",
     "text": [
      "C:\\Users\\Andreas Shepley\\Anaconda3\\lib\\site-packages\\sklearn\\linear_model\\stochastic_gradient.py:166: FutureWarning: max_iter and tol parameters have been added in Perceptron in 0.19. If both are left unset, they default to max_iter=5 and tol=None. If tol is not None, max_iter defaults to max_iter=1000. From 0.21, default max_iter will be 1000, and default tol will be 1e-3.\n",
      "  FutureWarning)\n"
     ]
    },
    {
     "data": {
      "text/plain": [
       "Perceptron(alpha=0.0001, class_weight=None, early_stopping=False, eta0=1.0,\n",
       "      fit_intercept=True, max_iter=None, n_iter=None, n_iter_no_change=5,\n",
       "      n_jobs=None, penalty=None, random_state=0, shuffle=True, tol=None,\n",
       "      validation_fraction=0.1, verbose=0, warm_start=False)"
      ]
     },
     "execution_count": 21,
     "metadata": {},
     "output_type": "execute_result"
    }
   ],
   "source": [
    "#Create a perception model and train it\n",
    "perceptron = Perceptron()\n",
    "perceptron.fit(x, y)"
   ]
  },
  {
   "cell_type": "code",
   "execution_count": 22,
   "metadata": {},
   "outputs": [
    {
     "name": "stdout",
     "output_type": "stream",
     "text": [
      "Mean squared error:  0.13492504164353136\n",
      "Accuracy: 87.0%\n"
     ]
    }
   ],
   "source": [
    "#Run your model on the test set, then calculate the mean squared error and accuracy\n",
    "predictions = perceptron.predict(x_t)\n",
    "print(\"Mean squared error: \",np.mean((predictions - y_t) ** 2))\n",
    "print(\"Accuracy:\",str(round(metrics.accuracy_score(y_t, predictions)*100))+\"%\")"
   ]
  },
  {
   "cell_type": "markdown",
   "metadata": {},
   "source": [
    "How did it go? Is the MLPClassifier or Perceptron more suitable for this application?"
   ]
  },
  {
   "cell_type": "code",
   "execution_count": null,
   "metadata": {},
   "outputs": [],
   "source": []
  }
 ],
 "metadata": {
  "kernelspec": {
   "display_name": "Python 3",
   "language": "python",
   "name": "python3"
  },
  "language_info": {
   "codemirror_mode": {
    "name": "ipython",
    "version": 3
   },
   "file_extension": ".py",
   "mimetype": "text/x-python",
   "name": "python",
   "nbconvert_exporter": "python",
   "pygments_lexer": "ipython3",
   "version": "3.7.1"
  }
 },
 "nbformat": 4,
 "nbformat_minor": 2
}
